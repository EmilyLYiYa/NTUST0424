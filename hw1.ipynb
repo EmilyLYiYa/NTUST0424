{
 "cells": [
  {
   "cell_type": "code",
   "execution_count": 14,
   "metadata": {},
   "outputs": [
    {
     "name": "stdout",
     "output_type": "stream",
     "text": [
      "score:100\n",
      "及格！\n"
     ]
    }
   ],
   "source": [
    "score = int(input(\"score:\"))\n",
    "if (score >= 60):\n",
    "    print(\"及格！\")\n",
    "elif (score < 60):\n",
    "    print(\"不及格！\")\n",
    "elif(score >= 80):\n",
    "    print(\"優等！\")\n",
    "else:\n",
    "    print(\"未知！\")"
   ]
  }
 ],
 "metadata": {
  "kernelspec": {
   "display_name": "Python 3",
   "language": "python",
   "name": "python3"
  },
  "language_info": {
   "codemirror_mode": {
    "name": "ipython",
    "version": 3
   },
   "file_extension": ".py",
   "mimetype": "text/x-python",
   "name": "python",
   "nbconvert_exporter": "python",
   "pygments_lexer": "ipython3",
   "version": "3.7.3"
  }
 },
 "nbformat": 4,
 "nbformat_minor": 2
}
